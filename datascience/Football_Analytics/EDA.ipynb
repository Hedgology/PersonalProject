{
 "cells": [
  {
   "cell_type": "code",
   "execution_count": 3,
   "metadata": {},
   "outputs": [
    {
     "name": "stdout",
     "output_type": "stream",
     "text": [
      "2016 done.\n",
      "2017 done.\n",
      "2018 done.\n",
      "2019 done.\n",
      "2020 done.\n",
      "2021 done.\n",
      "2022 done.\n",
      "Downcasting floats.\n"
     ]
    }
   ],
   "source": [
    "import pandas as pd\n",
    "import numpy as np\n",
    "import nfl_data_py as nfl\n",
    "\n",
    "seasons = range(2016, 2022 +1)\n",
    "pbp_py = nfl.import_pbp_data(seasons)"
   ]
  },
  {
   "cell_type": "code",
   "execution_count": 5,
   "metadata": {},
   "outputs": [
    {
     "data": {
      "text/html": [
       "<div>\n",
       "<style scoped>\n",
       "    .dataframe tbody tr th:only-of-type {\n",
       "        vertical-align: middle;\n",
       "    }\n",
       "\n",
       "    .dataframe tbody tr th {\n",
       "        vertical-align: top;\n",
       "    }\n",
       "\n",
       "    .dataframe thead th {\n",
       "        text-align: right;\n",
       "    }\n",
       "</style>\n",
       "<table border=\"1\" class=\"dataframe\">\n",
       "  <thead>\n",
       "    <tr style=\"text-align: right;\">\n",
       "      <th></th>\n",
       "      <th>index</th>\n",
       "      <th>play_id</th>\n",
       "      <th>game_id</th>\n",
       "      <th>old_game_id</th>\n",
       "      <th>home_team</th>\n",
       "      <th>away_team</th>\n",
       "      <th>season_type</th>\n",
       "      <th>week</th>\n",
       "      <th>posteam</th>\n",
       "      <th>posteam_type</th>\n",
       "      <th>...</th>\n",
       "      <th>offense_players</th>\n",
       "      <th>defense_players</th>\n",
       "      <th>n_offense</th>\n",
       "      <th>n_defense</th>\n",
       "      <th>ngs_air_yards</th>\n",
       "      <th>time_to_throw</th>\n",
       "      <th>was_pressure</th>\n",
       "      <th>route</th>\n",
       "      <th>defense_man_zone_type</th>\n",
       "      <th>defense_coverage_type</th>\n",
       "    </tr>\n",
       "  </thead>\n",
       "  <tbody>\n",
       "    <tr>\n",
       "      <th>0</th>\n",
       "      <td>3</td>\n",
       "      <td>85.0</td>\n",
       "      <td>2016_01_BUF_BAL</td>\n",
       "      <td>2016091101</td>\n",
       "      <td>BAL</td>\n",
       "      <td>BUF</td>\n",
       "      <td>REG</td>\n",
       "      <td>1</td>\n",
       "      <td>BAL</td>\n",
       "      <td>home</td>\n",
       "      <td>...</td>\n",
       "      <td>00-0029892;00-0027714;00-0032965;00-0029893;00...</td>\n",
       "      <td>00-0031171;00-0029542;00-0029566;00-0030073;00...</td>\n",
       "      <td>11.0</td>\n",
       "      <td>11.0</td>\n",
       "      <td>-4.53</td>\n",
       "      <td>2.404</td>\n",
       "      <td>0.0</td>\n",
       "      <td>FLAT</td>\n",
       "      <td>None</td>\n",
       "      <td>None</td>\n",
       "    </tr>\n",
       "    <tr>\n",
       "      <th>1</th>\n",
       "      <td>5</td>\n",
       "      <td>130.0</td>\n",
       "      <td>2016_01_BUF_BAL</td>\n",
       "      <td>2016091101</td>\n",
       "      <td>BAL</td>\n",
       "      <td>BUF</td>\n",
       "      <td>REG</td>\n",
       "      <td>1</td>\n",
       "      <td>BAL</td>\n",
       "      <td>home</td>\n",
       "      <td>...</td>\n",
       "      <td>00-0029892;00-0027714;00-0032965;00-0029893;00...</td>\n",
       "      <td>00-0029542;00-0031171;00-0029566;00-0030073;00...</td>\n",
       "      <td>11.0</td>\n",
       "      <td>11.0</td>\n",
       "      <td>1.71</td>\n",
       "      <td>2.093</td>\n",
       "      <td>0.0</td>\n",
       "      <td>FLAT</td>\n",
       "      <td>None</td>\n",
       "      <td>None</td>\n",
       "    </tr>\n",
       "    <tr>\n",
       "      <th>2</th>\n",
       "      <td>9</td>\n",
       "      <td>216.0</td>\n",
       "      <td>2016_01_BUF_BAL</td>\n",
       "      <td>2016091101</td>\n",
       "      <td>BAL</td>\n",
       "      <td>BUF</td>\n",
       "      <td>REG</td>\n",
       "      <td>1</td>\n",
       "      <td>BUF</td>\n",
       "      <td>away</td>\n",
       "      <td>...</td>\n",
       "      <td>00-0027004;00-0030046;00-0028112;00-0031325;00...</td>\n",
       "      <td>00-0031170;00-0027560;00-0027965;00-0031296;00...</td>\n",
       "      <td>11.0</td>\n",
       "      <td>10.0</td>\n",
       "      <td>1.61</td>\n",
       "      <td>2.537</td>\n",
       "      <td>0.0</td>\n",
       "      <td>ANGLE</td>\n",
       "      <td>None</td>\n",
       "      <td>None</td>\n",
       "    </tr>\n",
       "    <tr>\n",
       "      <th>3</th>\n",
       "      <td>11</td>\n",
       "      <td>261.0</td>\n",
       "      <td>2016_01_BUF_BAL</td>\n",
       "      <td>2016091101</td>\n",
       "      <td>BAL</td>\n",
       "      <td>BUF</td>\n",
       "      <td>REG</td>\n",
       "      <td>1</td>\n",
       "      <td>BUF</td>\n",
       "      <td>away</td>\n",
       "      <td>...</td>\n",
       "      <td>00-0027004;00-0030046;00-0028112;00-0031325;00...</td>\n",
       "      <td>00-0031170;00-0027560;00-0027965;00-0031296;00...</td>\n",
       "      <td>10.0</td>\n",
       "      <td>10.0</td>\n",
       "      <td>-3.46</td>\n",
       "      <td>2.265</td>\n",
       "      <td>0.0</td>\n",
       "      <td>SCREEN</td>\n",
       "      <td>None</td>\n",
       "      <td>None</td>\n",
       "    </tr>\n",
       "    <tr>\n",
       "      <th>4</th>\n",
       "      <td>13</td>\n",
       "      <td>310.0</td>\n",
       "      <td>2016_01_BUF_BAL</td>\n",
       "      <td>2016091101</td>\n",
       "      <td>BAL</td>\n",
       "      <td>BUF</td>\n",
       "      <td>REG</td>\n",
       "      <td>1</td>\n",
       "      <td>BAL</td>\n",
       "      <td>home</td>\n",
       "      <td>...</td>\n",
       "      <td>00-0027714;00-0032965;00-0029893;00-0026223;00...</td>\n",
       "      <td>00-0029542;00-0031171;00-0029566;00-0030073;00...</td>\n",
       "      <td>11.0</td>\n",
       "      <td>11.0</td>\n",
       "      <td>3.56</td>\n",
       "      <td>1.921</td>\n",
       "      <td>0.0</td>\n",
       "      <td>FLAT</td>\n",
       "      <td>None</td>\n",
       "      <td>None</td>\n",
       "    </tr>\n",
       "  </tbody>\n",
       "</table>\n",
       "<p>5 rows × 391 columns</p>\n",
       "</div>"
      ],
      "text/plain": [
       "   index  play_id          game_id old_game_id home_team away_team  \\\n",
       "0      3     85.0  2016_01_BUF_BAL  2016091101       BAL       BUF   \n",
       "1      5    130.0  2016_01_BUF_BAL  2016091101       BAL       BUF   \n",
       "2      9    216.0  2016_01_BUF_BAL  2016091101       BAL       BUF   \n",
       "3     11    261.0  2016_01_BUF_BAL  2016091101       BAL       BUF   \n",
       "4     13    310.0  2016_01_BUF_BAL  2016091101       BAL       BUF   \n",
       "\n",
       "  season_type  week posteam posteam_type  ...  \\\n",
       "0         REG     1     BAL         home  ...   \n",
       "1         REG     1     BAL         home  ...   \n",
       "2         REG     1     BUF         away  ...   \n",
       "3         REG     1     BUF         away  ...   \n",
       "4         REG     1     BAL         home  ...   \n",
       "\n",
       "                                     offense_players  \\\n",
       "0  00-0029892;00-0027714;00-0032965;00-0029893;00...   \n",
       "1  00-0029892;00-0027714;00-0032965;00-0029893;00...   \n",
       "2  00-0027004;00-0030046;00-0028112;00-0031325;00...   \n",
       "3  00-0027004;00-0030046;00-0028112;00-0031325;00...   \n",
       "4  00-0027714;00-0032965;00-0029893;00-0026223;00...   \n",
       "\n",
       "                                     defense_players  n_offense n_defense  \\\n",
       "0  00-0031171;00-0029542;00-0029566;00-0030073;00...       11.0      11.0   \n",
       "1  00-0029542;00-0031171;00-0029566;00-0030073;00...       11.0      11.0   \n",
       "2  00-0031170;00-0027560;00-0027965;00-0031296;00...       11.0      10.0   \n",
       "3  00-0031170;00-0027560;00-0027965;00-0031296;00...       10.0      10.0   \n",
       "4  00-0029542;00-0031171;00-0029566;00-0030073;00...       11.0      11.0   \n",
       "\n",
       "   ngs_air_yards  time_to_throw  was_pressure   route  defense_man_zone_type  \\\n",
       "0          -4.53          2.404           0.0    FLAT                   None   \n",
       "1           1.71          2.093           0.0    FLAT                   None   \n",
       "2           1.61          2.537           0.0   ANGLE                   None   \n",
       "3          -3.46          2.265           0.0  SCREEN                   None   \n",
       "4           3.56          1.921           0.0    FLAT                   None   \n",
       "\n",
       "   defense_coverage_type  \n",
       "0                   None  \n",
       "1                   None  \n",
       "2                   None  \n",
       "3                   None  \n",
       "4                   None  \n",
       "\n",
       "[5 rows x 391 columns]"
      ]
     },
     "execution_count": 5,
     "metadata": {},
     "output_type": "execute_result"
    }
   ],
   "source": [
    "pbp_py_p = \\\n",
    "    pbp_py.query(\"play_type == 'pass' & air_yards.notnull()\").reset_index()\n",
    "\n",
    "pbp_py_p.head()"
   ]
  },
  {
   "cell_type": "code",
   "execution_count": 7,
   "metadata": {},
   "outputs": [
    {
     "data": {
      "text/plain": [
       "count    131606.000000\n",
       "mean          7.191807\n",
       "std           9.666765\n",
       "min         -20.000000\n",
       "25%           0.000000\n",
       "50%           5.000000\n",
       "75%          11.000000\n",
       "max          98.000000\n",
       "Name: passing_yards, dtype: float64"
      ]
     },
     "execution_count": 7,
     "metadata": {},
     "output_type": "execute_result"
    }
   ],
   "source": [
    "pbp_py_p[\"pass_length_air_yards\"] = np.where(\n",
    "    pbp_py_p[\"air_yards\"] >= 20, \"long\", \"short\"\n",
    ")\n",
    "\n",
    "pbp_py_p[\"passing_yards\"] = np.where(\n",
    "    pbp_py_p[\"passing_yards\"].isnull(), 0, pbp_py_p[\"passing_yards\"]\n",
    ")\n",
    "\n",
    "pbp_py_p[\"passing_yards\"].describe()"
   ]
  },
  {
   "cell_type": "code",
   "execution_count": 9,
   "metadata": {},
   "outputs": [
    {
     "data": {
      "text/plain": [
       "count    116085.000000\n",
       "mean          6.525623\n",
       "std           7.695175\n",
       "min         -20.000000\n",
       "25%           0.000000\n",
       "50%           5.000000\n",
       "75%          10.000000\n",
       "max          95.000000\n",
       "Name: passing_yards, dtype: float64"
      ]
     },
     "execution_count": 9,
     "metadata": {},
     "output_type": "execute_result"
    }
   ],
   "source": [
    "pbp_py_p.query(\n",
    "    'pass_length_air_yards == \"short\"')[\"passing_yards\"].describe()"
   ]
  },
  {
   "cell_type": "code",
   "execution_count": 10,
   "metadata": {},
   "outputs": [
    {
     "data": {
      "text/plain": [
       "count    15521.000000\n",
       "mean        12.174344\n",
       "std         17.925913\n",
       "min          0.000000\n",
       "25%          0.000000\n",
       "50%          0.000000\n",
       "75%         26.000000\n",
       "max         98.000000\n",
       "Name: passing_yards, dtype: float64"
      ]
     },
     "execution_count": 10,
     "metadata": {},
     "output_type": "execute_result"
    }
   ],
   "source": [
    "pbp_py_p.query(\n",
    "    'pass_length_air_yards ==\"long\"'\n",
    ")[\"passing_yards\"]"
   ]
  },
  {
   "cell_type": "code",
   "execution_count": 12,
   "metadata": {},
   "outputs": [
    {
     "data": {
      "text/plain": [
       "count    116084.000000\n",
       "mean          0.119577\n",
       "std           1.426167\n",
       "min         -13.031219\n",
       "25%          -0.606107\n",
       "50%          -0.002116\n",
       "75%           0.959070\n",
       "max           8.241420\n",
       "Name: epa, dtype: float64"
      ]
     },
     "execution_count": 12,
     "metadata": {},
     "output_type": "execute_result"
    }
   ],
   "source": [
    "pbp_py_p.query(\n",
    "    'pass_length_air_yards == \"short\"'\n",
    ")[\"epa\"].describe()"
   ]
  },
  {
   "cell_type": "code",
   "execution_count": 13,
   "metadata": {},
   "outputs": [
    {
     "data": {
      "image/png": "[encoded data removed]",
      "text/plain": [
       "<Figure size 640x480 with 1 Axes>"
      ]
     },
     "metadata": {},
     "output_type": "display_data"
    }
   ],
   "source": [
    "import seaborn as sns\n",
    "import matplotlib.pyplot as plt\n",
    "\n",
    "sns.histplot(data=pbp_py, x='passing_yards');\n",
    "plt.show()"
   ]
  },
  {
   "cell_type": "code",
   "execution_count": 18,
   "metadata": {},
   "outputs": [
    {
     "ename": "AttributeError",
     "evalue": "'Axes' object has no attribute 'set_axis_labels'",
     "output_type": "error",
     "traceback": [
      "\u001b[1;31m---------------------------------------------------------------------------\u001b[0m",
      "\u001b[1;31mAttributeError\u001b[0m                            Traceback (most recent call last)",
      "Cell \u001b[1;32mIn[18], line 11\u001b[0m\n\u001b[0;32m      3\u001b[0m pbp_py_p_short \u001b[38;5;241m=\u001b[39m pbp_py_p\u001b[38;5;241m.\u001b[39mquery(\n\u001b[0;32m      4\u001b[0m     \u001b[38;5;124m'\u001b[39m\u001b[38;5;124mpass_length_air_yards == \u001b[39m\u001b[38;5;124m\"\u001b[39m\u001b[38;5;124mshort\u001b[39m\u001b[38;5;124m\"\u001b[39m\u001b[38;5;124m'\u001b[39m\n\u001b[0;32m      5\u001b[0m )\n\u001b[0;32m      7\u001b[0m pbp_py_hist_short \u001b[38;5;241m=\u001b[39m sns\u001b[38;5;241m.\u001b[39mhistplot(\n\u001b[0;32m      8\u001b[0m     data\u001b[38;5;241m=\u001b[39mpbp_py_p_short, binwidth\u001b[38;5;241m=\u001b[39m\u001b[38;5;241m1\u001b[39m, x\u001b[38;5;241m=\u001b[39m\u001b[38;5;124m'\u001b[39m\u001b[38;5;124mpassing_yards\u001b[39m\u001b[38;5;124m'\u001b[39m\n\u001b[0;32m      9\u001b[0m );\n\u001b[1;32m---> 11\u001b[0m \u001b[43mpbp_py_hist_short\u001b[49m\u001b[38;5;241;43m.\u001b[39;49m\u001b[43mset_axis_labels\u001b[49m(\n\u001b[0;32m     12\u001b[0m     \u001b[38;5;124m\"\u001b[39m\u001b[38;5;124mYards gained (or lost) during a passing play\u001b[39m\u001b[38;5;124m\"\u001b[39m, \u001b[38;5;124m\"\u001b[39m\u001b[38;5;124mCount\u001b[39m\u001b[38;5;124m\"\u001b[39m\n\u001b[0;32m     13\u001b[0m );\n\u001b[0;32m     15\u001b[0m plt\u001b[38;5;241m.\u001b[39mshow()\n",
      "\u001b[1;31mAttributeError\u001b[0m: 'Axes' object has no attribute 'set_axis_labels'"
     ]
    },
    {
     "data": {
      "image/png": "[encoded data removed]",
      "text/plain": [
       "<Figure size 640x480 with 1 Axes>"
      ]
     },
     "metadata": {},
     "output_type": "display_data"
    }
   ],
   "source": [
    "sns.set_theme(style='whitegrid', palette='colorblind')\n",
    "\n",
    "pbp_py_p_short = pbp_py_p.query(\n",
    "    'pass_length_air_yards == \"short\"'\n",
    ")\n",
    "\n",
    "pbp_py_hist_short = sns.histplot(\n",
    "    data=pbp_py_p_short, binwidth=1, x='passing_yards'\n",
    ");\n",
    "\n",
    "pbp_py_hist_short.set_axis_labels(\n",
    "    \"Yards gained (or lost) during a passing play\", \"Count\"\n",
    ");\n",
    "\n",
    "plt.show()"
   ]
  },
  {
   "cell_type": "code",
   "execution_count": 19,
   "metadata": {},
   "outputs": [
    {
     "data": {
      "image/png": "[encoded data removed]",
      "text/plain": [
       "<Figure size 640x480 with 1 Axes>"
      ]
     },
     "metadata": {},
     "output_type": "display_data"
    }
   ],
   "source": [
    "pass_boxplot = \\\n",
    "    sns.boxplot(data=pbp_py_p,\n",
    "                x=\"pass_length_air_yards\",\n",
    "                y=\"passing_yards\");\n",
    "\n",
    "pass_boxplot.set(\n",
    "    xlabel = \"Pass length (long >= 20 yards, short < 20 yards)\",\n",
    "    ylabel = \"Yards gained (or lost) during a passing play\",\n",
    ");\n",
    "\n",
    "plt.show()"
   ]
  },
  {
   "cell_type": "code",
   "execution_count": 33,
   "metadata": {},
   "outputs": [],
   "source": [
    "pbp_py_p_s = \\\n",
    "    pbp_py_p \\\n",
    "    .groupby([\"passer_id\", \"passer\", \"season\"])\\\n",
    "    .agg({\"passing_yards\": [\"mean\", \"count\"]})\n",
    "\n",
    "pbp_py_p_s.columns = list(map(\"_\".join, pbp_py_p_s.columns.values))\n",
    "\n",
    "#renaming the columns\n",
    "pbp_py_p_s \\\n",
    "    .rename(columns={'passing_yards_mean': 'ypa',\n",
    "                     'passing_yards_count': 'n'},\n",
    "                     inplace=True)"
   ]
  },
  {
   "cell_type": "code",
   "execution_count": 34,
   "metadata": {},
   "outputs": [
    {
     "data": {
      "text/html": [
       "<div>\n",
       "<style scoped>\n",
       "    .dataframe tbody tr th:only-of-type {\n",
       "        vertical-align: middle;\n",
       "    }\n",
       "\n",
       "    .dataframe tbody tr th {\n",
       "        vertical-align: top;\n",
       "    }\n",
       "\n",
       "    .dataframe thead th {\n",
       "        text-align: right;\n",
       "    }\n",
       "</style>\n",
       "<table border=\"1\" class=\"dataframe\">\n",
       "  <thead>\n",
       "    <tr style=\"text-align: right;\">\n",
       "      <th></th>\n",
       "      <th></th>\n",
       "      <th></th>\n",
       "      <th>ypa</th>\n",
       "      <th>n</th>\n",
       "    </tr>\n",
       "    <tr>\n",
       "      <th>passer_id</th>\n",
       "      <th>passer</th>\n",
       "      <th>season</th>\n",
       "      <th></th>\n",
       "      <th></th>\n",
       "    </tr>\n",
       "  </thead>\n",
       "  <tbody>\n",
       "    <tr>\n",
       "      <th>00-0035544</th>\n",
       "      <th>T.Kennedy</th>\n",
       "      <th>2021</th>\n",
       "      <td>75.0</td>\n",
       "      <td>1</td>\n",
       "    </tr>\n",
       "    <tr>\n",
       "      <th>00-0033132</th>\n",
       "      <th>K.Byard</th>\n",
       "      <th>2018</th>\n",
       "      <td>66.0</td>\n",
       "      <td>1</td>\n",
       "    </tr>\n",
       "    <tr>\n",
       "      <th>00-0031235</th>\n",
       "      <th>O.Beckham</th>\n",
       "      <th>2018</th>\n",
       "      <td>53.0</td>\n",
       "      <td>2</td>\n",
       "    </tr>\n",
       "    <tr>\n",
       "      <th>00-0030669</th>\n",
       "      <th>A.Wilson</th>\n",
       "      <th>2018</th>\n",
       "      <td>52.0</td>\n",
       "      <td>1</td>\n",
       "    </tr>\n",
       "    <tr>\n",
       "      <th>00-0029632</th>\n",
       "      <th>M.Sanu</th>\n",
       "      <th>2017</th>\n",
       "      <td>51.0</td>\n",
       "      <td>1</td>\n",
       "    </tr>\n",
       "  </tbody>\n",
       "</table>\n",
       "</div>"
      ],
      "text/plain": [
       "                              ypa  n\n",
       "passer_id  passer    season         \n",
       "00-0035544 T.Kennedy 2021    75.0  1\n",
       "00-0033132 K.Byard   2018    66.0  1\n",
       "00-0031235 O.Beckham 2018    53.0  2\n",
       "00-0030669 A.Wilson  2018    52.0  1\n",
       "00-0029632 M.Sanu    2017    51.0  1"
      ]
     },
     "execution_count": 34,
     "metadata": {},
     "output_type": "execute_result"
    }
   ],
   "source": [
    "pbp_py_p_s\\\n",
    "    .sort_values(by=['ypa'], ascending=False)\\\n",
    "    .head()"
   ]
  },
  {
   "cell_type": "code",
   "execution_count": 35,
   "metadata": {},
   "outputs": [
    {
     "data": {
      "text/html": [
       "<div>\n",
       "<style scoped>\n",
       "    .dataframe tbody tr th:only-of-type {\n",
       "        vertical-align: middle;\n",
       "    }\n",
       "\n",
       "    .dataframe tbody tr th {\n",
       "        vertical-align: top;\n",
       "    }\n",
       "\n",
       "    .dataframe thead th {\n",
       "        text-align: right;\n",
       "    }\n",
       "</style>\n",
       "<table border=\"1\" class=\"dataframe\">\n",
       "  <thead>\n",
       "    <tr style=\"text-align: right;\">\n",
       "      <th></th>\n",
       "      <th></th>\n",
       "      <th></th>\n",
       "      <th>ypa</th>\n",
       "      <th>n</th>\n",
       "    </tr>\n",
       "    <tr>\n",
       "      <th>passer_id</th>\n",
       "      <th>passer</th>\n",
       "      <th>season</th>\n",
       "      <th></th>\n",
       "      <th></th>\n",
       "    </tr>\n",
       "  </thead>\n",
       "  <tbody>\n",
       "    <tr>\n",
       "      <th>00-0023682</th>\n",
       "      <th>R.Fitzpatrick</th>\n",
       "      <th>2018</th>\n",
       "      <td>9.617887</td>\n",
       "      <td>246</td>\n",
       "    </tr>\n",
       "    <tr>\n",
       "      <th>00-0026143</th>\n",
       "      <th>M.Ryan</th>\n",
       "      <th>2016</th>\n",
       "      <td>9.442155</td>\n",
       "      <td>631</td>\n",
       "    </tr>\n",
       "    <tr>\n",
       "      <th>00-0029701</th>\n",
       "      <th>R.Tannehill</th>\n",
       "      <th>2019</th>\n",
       "      <td>9.069971</td>\n",
       "      <td>343</td>\n",
       "    </tr>\n",
       "    <tr>\n",
       "      <th>00-0033537</th>\n",
       "      <th>D.Watson</th>\n",
       "      <th>2020</th>\n",
       "      <td>8.898524</td>\n",
       "      <td>542</td>\n",
       "    </tr>\n",
       "    <tr>\n",
       "      <th>00-0036212</th>\n",
       "      <th>T.Tagovailoa</th>\n",
       "      <th>2022</th>\n",
       "      <td>8.892231</td>\n",
       "      <td>399</td>\n",
       "    </tr>\n",
       "  </tbody>\n",
       "</table>\n",
       "</div>"
      ],
      "text/plain": [
       "                                      ypa    n\n",
       "passer_id  passer        season               \n",
       "00-0023682 R.Fitzpatrick 2018    9.617887  246\n",
       "00-0026143 M.Ryan        2016    9.442155  631\n",
       "00-0029701 R.Tannehill   2019    9.069971  343\n",
       "00-0033537 D.Watson      2020    8.898524  542\n",
       "00-0036212 T.Tagovailoa  2022    8.892231  399"
      ]
     },
     "execution_count": 35,
     "metadata": {},
     "output_type": "execute_result"
    }
   ],
   "source": [
    "#query for players with 100 or more pass attempts\n",
    "\n",
    "pbp_py_p_s_100 = \\\n",
    "    pbp_py_p_s\\\n",
    "    .query(\"n >= 100\")\\\n",
    "    .sort_values(by=[\"ypa\"], ascending=False)\n",
    "\n",
    "pbp_py_p_s_100.head()"
   ]
  },
  {
   "cell_type": "code",
   "execution_count": 39,
   "metadata": {},
   "outputs": [
    {
     "data": {
      "text/html": [
       "<div>\n",
       "<style scoped>\n",
       "    .dataframe tbody tr th:only-of-type {\n",
       "        vertical-align: middle;\n",
       "    }\n",
       "\n",
       "    .dataframe tbody tr th {\n",
       "        vertical-align: top;\n",
       "    }\n",
       "\n",
       "    .dataframe thead th {\n",
       "        text-align: right;\n",
       "    }\n",
       "</style>\n",
       "<table border=\"1\" class=\"dataframe\">\n",
       "  <thead>\n",
       "    <tr style=\"text-align: right;\">\n",
       "      <th></th>\n",
       "      <th>index</th>\n",
       "      <th>passer_id</th>\n",
       "      <th>passer</th>\n",
       "      <th>season</th>\n",
       "      <th>pass_length_air_yards</th>\n",
       "      <th>n</th>\n",
       "      <th>passing_yards_count</th>\n",
       "    </tr>\n",
       "  </thead>\n",
       "  <tbody>\n",
       "    <tr>\n",
       "      <th>0</th>\n",
       "      <td>56</td>\n",
       "      <td>00-0022921</td>\n",
       "      <td>L.Fitzgerald</td>\n",
       "      <td>2018</td>\n",
       "      <td>long</td>\n",
       "      <td>32.0</td>\n",
       "      <td>1</td>\n",
       "    </tr>\n",
       "    <tr>\n",
       "      <th>1</th>\n",
       "      <td>246</td>\n",
       "      <td>00-0027685</td>\n",
       "      <td>E.Sanders</td>\n",
       "      <td>2019</td>\n",
       "      <td>long</td>\n",
       "      <td>35.0</td>\n",
       "      <td>1</td>\n",
       "    </tr>\n",
       "    <tr>\n",
       "      <th>2</th>\n",
       "      <td>350</td>\n",
       "      <td>00-0028954</td>\n",
       "      <td>R.Golden</td>\n",
       "      <td>2017</td>\n",
       "      <td>long</td>\n",
       "      <td>44.0</td>\n",
       "      <td>1</td>\n",
       "    </tr>\n",
       "    <tr>\n",
       "      <th>3</th>\n",
       "      <td>415</td>\n",
       "      <td>00-0029632</td>\n",
       "      <td>M.Sanu</td>\n",
       "      <td>2017</td>\n",
       "      <td>long</td>\n",
       "      <td>51.0</td>\n",
       "      <td>1</td>\n",
       "    </tr>\n",
       "    <tr>\n",
       "      <th>4</th>\n",
       "      <td>456</td>\n",
       "      <td>00-0030140</td>\n",
       "      <td>T.Way</td>\n",
       "      <td>2016</td>\n",
       "      <td>long</td>\n",
       "      <td>31.0</td>\n",
       "      <td>1</td>\n",
       "    </tr>\n",
       "  </tbody>\n",
       "</table>\n",
       "</div>"
      ],
      "text/plain": [
       "   index   passer_id        passer  season pass_length_air_yards     n  \\\n",
       "0     56  00-0022921  L.Fitzgerald    2018                  long  32.0   \n",
       "1    246  00-0027685     E.Sanders    2019                  long  35.0   \n",
       "2    350  00-0028954      R.Golden    2017                  long  44.0   \n",
       "3    415  00-0029632        M.Sanu    2017                  long  51.0   \n",
       "4    456  00-0030140         T.Way    2016                  long  31.0   \n",
       "\n",
       "   passing_yards_count  \n",
       "0                    1  \n",
       "1                    1  \n",
       "2                    1  \n",
       "3                    1  \n",
       "4                    1  "
      ]
     },
     "execution_count": 39,
     "metadata": {},
     "output_type": "execute_result"
    }
   ],
   "source": [
    "#Deep passes versus short passes\n",
    "\n",
    "pbp_py_p_s_pl = \\\n",
    "    pbp_py_p\\\n",
    "    .groupby([\"passer_id\", \"passer\", \"season\", \"pass_length_air_yards\"])\\\n",
    "    .agg({\"passing_yards\": ['mean', 'count']})\n",
    "\n",
    "\n",
    "#flattening cloumn names and renaming the columns\n",
    "pbp_py_p_s_pl.columns =\\\n",
    "    list(map(\"_\".join, pbp_py_p_s_pl.columns.values))\n",
    "pbp_py_p_s_pl\\\n",
    "    .rename(columns={'passing_yards_maen': 'ypa',\n",
    "                     'passing_yards_mean': 'n'},\n",
    "                     inplace=True)\n",
    "\n",
    "#reseting index\n",
    "pbp_py_p_s_pl.reset_index(inplace=True)\n",
    "\n",
    "# selectng only short-passing data from passers with more than 100 plays and\n",
    "# long-passing data for passers with more than 30 such plays\n",
    "\n",
    "q_value = (\n",
    "    '(n >= 100 & ' +\n",
    "    'pass_length_air_yards == \"short\") | ' +\n",
    "    '(n >= 30 & ' +\n",
    "    'pass_length_air_yards == \"long\")'\n",
    ")\n",
    "pbp_py_p_s_pl = pbp_py_p_s_pl.query(q_value).reset_index()\n",
    "pbp_py_p_s_pl.head()"
   ]
  },
  {
   "cell_type": "code",
   "execution_count": 38,
   "metadata": {},
   "outputs": [
    {
     "ename": "KeyError",
     "evalue": "\"['ypa'] not in index\"",
     "output_type": "error",
     "traceback": [
      "\u001b[1;31m---------------------------------------------------------------------------\u001b[0m",
      "\u001b[1;31mKeyError\u001b[0m                                  Traceback (most recent call last)",
      "Cell \u001b[1;32mIn[38], line 6\u001b[0m\n\u001b[0;32m      1\u001b[0m \u001b[38;5;66;03m# creating a list of columns to save and a new dataframe\u001b[39;00m\n\u001b[0;32m      2\u001b[0m cols_save \u001b[38;5;241m=\u001b[39m\\\n\u001b[0;32m      3\u001b[0m     [\u001b[38;5;124m\"\u001b[39m\u001b[38;5;124mpasser_id\u001b[39m\u001b[38;5;124m\"\u001b[39m, \u001b[38;5;124m\"\u001b[39m\u001b[38;5;124mpasser\u001b[39m\u001b[38;5;124m\"\u001b[39m, \u001b[38;5;124m\"\u001b[39m\u001b[38;5;124mseason\u001b[39m\u001b[38;5;124m\"\u001b[39m,\n\u001b[0;32m      4\u001b[0m     \u001b[38;5;124m\"\u001b[39m\u001b[38;5;124mpass_length_air_yards\u001b[39m\u001b[38;5;124m\"\u001b[39m, \u001b[38;5;124m\"\u001b[39m\u001b[38;5;124mypa\u001b[39m\u001b[38;5;124m\"\u001b[39m]\n\u001b[0;32m      5\u001b[0m air_yards_py \u001b[38;5;241m=\u001b[39m\\\n\u001b[1;32m----> 6\u001b[0m     \u001b[43mpbp_py_p_s_pl\u001b[49m\u001b[43m[\u001b[49m\u001b[43mcols_save\u001b[49m\u001b[43m]\u001b[49m\u001b[38;5;241m.\u001b[39mcopy()\n",
      "File \u001b[1;32mc:\\Users\\drebi\\AppData\\Local\\Programs\\Python\\Python312\\Lib\\site-packages\\pandas\\core\\frame.py:4096\u001b[0m, in \u001b[0;36mDataFrame.__getitem__\u001b[1;34m(self, key)\u001b[0m\n\u001b[0;32m   4094\u001b[0m     \u001b[38;5;28;01mif\u001b[39;00m is_iterator(key):\n\u001b[0;32m   4095\u001b[0m         key \u001b[38;5;241m=\u001b[39m \u001b[38;5;28mlist\u001b[39m(key)\n\u001b[1;32m-> 4096\u001b[0m     indexer \u001b[38;5;241m=\u001b[39m \u001b[38;5;28;43mself\u001b[39;49m\u001b[38;5;241;43m.\u001b[39;49m\u001b[43mcolumns\u001b[49m\u001b[38;5;241;43m.\u001b[39;49m\u001b[43m_get_indexer_strict\u001b[49m\u001b[43m(\u001b[49m\u001b[43mkey\u001b[49m\u001b[43m,\u001b[49m\u001b[43m \u001b[49m\u001b[38;5;124;43m\"\u001b[39;49m\u001b[38;5;124;43mcolumns\u001b[39;49m\u001b[38;5;124;43m\"\u001b[39;49m\u001b[43m)\u001b[49m[\u001b[38;5;241m1\u001b[39m]\n\u001b[0;32m   4098\u001b[0m \u001b[38;5;66;03m# take() does not accept boolean indexers\u001b[39;00m\n\u001b[0;32m   4099\u001b[0m \u001b[38;5;28;01mif\u001b[39;00m \u001b[38;5;28mgetattr\u001b[39m(indexer, \u001b[38;5;124m\"\u001b[39m\u001b[38;5;124mdtype\u001b[39m\u001b[38;5;124m\"\u001b[39m, \u001b[38;5;28;01mNone\u001b[39;00m) \u001b[38;5;241m==\u001b[39m \u001b[38;5;28mbool\u001b[39m:\n",
      "File \u001b[1;32mc:\\Users\\drebi\\AppData\\Local\\Programs\\Python\\Python312\\Lib\\site-packages\\pandas\\core\\indexes\\base.py:6200\u001b[0m, in \u001b[0;36mIndex._get_indexer_strict\u001b[1;34m(self, key, axis_name)\u001b[0m\n\u001b[0;32m   6197\u001b[0m \u001b[38;5;28;01melse\u001b[39;00m:\n\u001b[0;32m   6198\u001b[0m     keyarr, indexer, new_indexer \u001b[38;5;241m=\u001b[39m \u001b[38;5;28mself\u001b[39m\u001b[38;5;241m.\u001b[39m_reindex_non_unique(keyarr)\n\u001b[1;32m-> 6200\u001b[0m \u001b[38;5;28;43mself\u001b[39;49m\u001b[38;5;241;43m.\u001b[39;49m\u001b[43m_raise_if_missing\u001b[49m\u001b[43m(\u001b[49m\u001b[43mkeyarr\u001b[49m\u001b[43m,\u001b[49m\u001b[43m \u001b[49m\u001b[43mindexer\u001b[49m\u001b[43m,\u001b[49m\u001b[43m \u001b[49m\u001b[43maxis_name\u001b[49m\u001b[43m)\u001b[49m\n\u001b[0;32m   6202\u001b[0m keyarr \u001b[38;5;241m=\u001b[39m \u001b[38;5;28mself\u001b[39m\u001b[38;5;241m.\u001b[39mtake(indexer)\n\u001b[0;32m   6203\u001b[0m \u001b[38;5;28;01mif\u001b[39;00m \u001b[38;5;28misinstance\u001b[39m(key, Index):\n\u001b[0;32m   6204\u001b[0m     \u001b[38;5;66;03m# GH 42790 - Preserve name from an Index\u001b[39;00m\n",
      "File \u001b[1;32mc:\\Users\\drebi\\AppData\\Local\\Programs\\Python\\Python312\\Lib\\site-packages\\pandas\\core\\indexes\\base.py:6252\u001b[0m, in \u001b[0;36mIndex._raise_if_missing\u001b[1;34m(self, key, indexer, axis_name)\u001b[0m\n\u001b[0;32m   6249\u001b[0m     \u001b[38;5;28;01mraise\u001b[39;00m \u001b[38;5;167;01mKeyError\u001b[39;00m(\u001b[38;5;124mf\u001b[39m\u001b[38;5;124m\"\u001b[39m\u001b[38;5;124mNone of [\u001b[39m\u001b[38;5;132;01m{\u001b[39;00mkey\u001b[38;5;132;01m}\u001b[39;00m\u001b[38;5;124m] are in the [\u001b[39m\u001b[38;5;132;01m{\u001b[39;00maxis_name\u001b[38;5;132;01m}\u001b[39;00m\u001b[38;5;124m]\u001b[39m\u001b[38;5;124m\"\u001b[39m)\n\u001b[0;32m   6251\u001b[0m not_found \u001b[38;5;241m=\u001b[39m \u001b[38;5;28mlist\u001b[39m(ensure_index(key)[missing_mask\u001b[38;5;241m.\u001b[39mnonzero()[\u001b[38;5;241m0\u001b[39m]]\u001b[38;5;241m.\u001b[39munique())\n\u001b[1;32m-> 6252\u001b[0m \u001b[38;5;28;01mraise\u001b[39;00m \u001b[38;5;167;01mKeyError\u001b[39;00m(\u001b[38;5;124mf\u001b[39m\u001b[38;5;124m\"\u001b[39m\u001b[38;5;132;01m{\u001b[39;00mnot_found\u001b[38;5;132;01m}\u001b[39;00m\u001b[38;5;124m not in index\u001b[39m\u001b[38;5;124m\"\u001b[39m)\n",
      "\u001b[1;31mKeyError\u001b[0m: \"['ypa'] not in index\""
     ]
    }
   ],
   "source": [
    "# creating a list of columns to save and a new dataframe\n",
    "cols_save =\\\n",
    "    [\"passer_id\", \"passer\", \"season\",\n",
    "    \"pass_length_air_yards\", \"ypa\"]\n",
    "\n",
    "air_yards_py =\\\n",
    "    pbp_py_p_s_pl[cols_save].copy()"
   ]
  },
  {
   "cell_type": "code",
   "execution_count": null,
   "metadata": {},
   "outputs": [],
   "source": []
  }
 ],
 "metadata": {
  "kernelspec": {
   "display_name": "Python 3",
   "language": "python",
   "name": "python3"
  },
  "language_info": {
   "codemirror_mode": {
    "name": "ipython",
    "version": 3
   },
   "file_extension": ".py",
   "mimetype": "text/x-python",
   "name": "python",
   "nbconvert_exporter": "python",
   "pygments_lexer": "ipython3",
   "version": "3.12.2"
  }
 },
 "nbformat": 4,
 "nbformat_minor": 2
}
